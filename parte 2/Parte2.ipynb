{
 "cells": [
  {
   "cell_type": "code",
   "execution_count": 45,
   "metadata": {},
   "outputs": [
    {
     "data": {
      "text/html": [
       "<div>\n",
       "<style scoped>\n",
       "    .dataframe tbody tr th:only-of-type {\n",
       "        vertical-align: middle;\n",
       "    }\n",
       "\n",
       "    .dataframe tbody tr th {\n",
       "        vertical-align: top;\n",
       "    }\n",
       "\n",
       "    .dataframe thead th {\n",
       "        text-align: right;\n",
       "    }\n",
       "</style>\n",
       "<table border=\"1\" class=\"dataframe\">\n",
       "  <thead>\n",
       "    <tr style=\"text-align: right;\">\n",
       "      <th></th>\n",
       "      <th>Wine</th>\n",
       "      <th>Alcohol</th>\n",
       "      <th>Malic.acid</th>\n",
       "      <th>Ash</th>\n",
       "      <th>Acl</th>\n",
       "      <th>Mg</th>\n",
       "      <th>Phenols</th>\n",
       "      <th>Flavanoids</th>\n",
       "      <th>Nonflavanoid.phenols</th>\n",
       "      <th>Proanth</th>\n",
       "      <th>Color.int</th>\n",
       "      <th>Hue</th>\n",
       "      <th>OD</th>\n",
       "      <th>Proline</th>\n",
       "    </tr>\n",
       "  </thead>\n",
       "  <tbody>\n",
       "    <tr>\n",
       "      <td>0</td>\n",
       "      <td>1</td>\n",
       "      <td>14.23</td>\n",
       "      <td>1.71</td>\n",
       "      <td>2.43</td>\n",
       "      <td>15.6</td>\n",
       "      <td>127</td>\n",
       "      <td>2.80</td>\n",
       "      <td>3.06</td>\n",
       "      <td>0.28</td>\n",
       "      <td>2.29</td>\n",
       "      <td>5.64</td>\n",
       "      <td>1.04</td>\n",
       "      <td>3.92</td>\n",
       "      <td>1065</td>\n",
       "    </tr>\n",
       "    <tr>\n",
       "      <td>1</td>\n",
       "      <td>1</td>\n",
       "      <td>13.20</td>\n",
       "      <td>1.78</td>\n",
       "      <td>2.14</td>\n",
       "      <td>11.2</td>\n",
       "      <td>100</td>\n",
       "      <td>2.65</td>\n",
       "      <td>2.76</td>\n",
       "      <td>0.26</td>\n",
       "      <td>1.28</td>\n",
       "      <td>4.38</td>\n",
       "      <td>1.05</td>\n",
       "      <td>3.40</td>\n",
       "      <td>1050</td>\n",
       "    </tr>\n",
       "    <tr>\n",
       "      <td>2</td>\n",
       "      <td>1</td>\n",
       "      <td>13.16</td>\n",
       "      <td>2.36</td>\n",
       "      <td>2.67</td>\n",
       "      <td>18.6</td>\n",
       "      <td>101</td>\n",
       "      <td>2.80</td>\n",
       "      <td>3.24</td>\n",
       "      <td>0.30</td>\n",
       "      <td>2.81</td>\n",
       "      <td>5.68</td>\n",
       "      <td>1.03</td>\n",
       "      <td>3.17</td>\n",
       "      <td>1185</td>\n",
       "    </tr>\n",
       "    <tr>\n",
       "      <td>3</td>\n",
       "      <td>1</td>\n",
       "      <td>14.37</td>\n",
       "      <td>1.95</td>\n",
       "      <td>2.50</td>\n",
       "      <td>16.8</td>\n",
       "      <td>113</td>\n",
       "      <td>3.85</td>\n",
       "      <td>3.49</td>\n",
       "      <td>0.24</td>\n",
       "      <td>2.18</td>\n",
       "      <td>7.80</td>\n",
       "      <td>0.86</td>\n",
       "      <td>3.45</td>\n",
       "      <td>1480</td>\n",
       "    </tr>\n",
       "    <tr>\n",
       "      <td>4</td>\n",
       "      <td>1</td>\n",
       "      <td>13.24</td>\n",
       "      <td>2.59</td>\n",
       "      <td>2.87</td>\n",
       "      <td>21.0</td>\n",
       "      <td>118</td>\n",
       "      <td>2.80</td>\n",
       "      <td>2.69</td>\n",
       "      <td>0.39</td>\n",
       "      <td>1.82</td>\n",
       "      <td>4.32</td>\n",
       "      <td>1.04</td>\n",
       "      <td>2.93</td>\n",
       "      <td>735</td>\n",
       "    </tr>\n",
       "    <tr>\n",
       "      <td>...</td>\n",
       "      <td>...</td>\n",
       "      <td>...</td>\n",
       "      <td>...</td>\n",
       "      <td>...</td>\n",
       "      <td>...</td>\n",
       "      <td>...</td>\n",
       "      <td>...</td>\n",
       "      <td>...</td>\n",
       "      <td>...</td>\n",
       "      <td>...</td>\n",
       "      <td>...</td>\n",
       "      <td>...</td>\n",
       "      <td>...</td>\n",
       "      <td>...</td>\n",
       "    </tr>\n",
       "    <tr>\n",
       "      <td>173</td>\n",
       "      <td>3</td>\n",
       "      <td>13.71</td>\n",
       "      <td>5.65</td>\n",
       "      <td>2.45</td>\n",
       "      <td>20.5</td>\n",
       "      <td>95</td>\n",
       "      <td>1.68</td>\n",
       "      <td>0.61</td>\n",
       "      <td>0.52</td>\n",
       "      <td>1.06</td>\n",
       "      <td>7.70</td>\n",
       "      <td>0.64</td>\n",
       "      <td>1.74</td>\n",
       "      <td>740</td>\n",
       "    </tr>\n",
       "    <tr>\n",
       "      <td>174</td>\n",
       "      <td>3</td>\n",
       "      <td>13.40</td>\n",
       "      <td>3.91</td>\n",
       "      <td>2.48</td>\n",
       "      <td>23.0</td>\n",
       "      <td>102</td>\n",
       "      <td>1.80</td>\n",
       "      <td>0.75</td>\n",
       "      <td>0.43</td>\n",
       "      <td>1.41</td>\n",
       "      <td>7.30</td>\n",
       "      <td>0.70</td>\n",
       "      <td>1.56</td>\n",
       "      <td>750</td>\n",
       "    </tr>\n",
       "    <tr>\n",
       "      <td>175</td>\n",
       "      <td>3</td>\n",
       "      <td>13.27</td>\n",
       "      <td>4.28</td>\n",
       "      <td>2.26</td>\n",
       "      <td>20.0</td>\n",
       "      <td>120</td>\n",
       "      <td>1.59</td>\n",
       "      <td>0.69</td>\n",
       "      <td>0.43</td>\n",
       "      <td>1.35</td>\n",
       "      <td>10.20</td>\n",
       "      <td>0.59</td>\n",
       "      <td>1.56</td>\n",
       "      <td>835</td>\n",
       "    </tr>\n",
       "    <tr>\n",
       "      <td>176</td>\n",
       "      <td>3</td>\n",
       "      <td>13.17</td>\n",
       "      <td>2.59</td>\n",
       "      <td>2.37</td>\n",
       "      <td>20.0</td>\n",
       "      <td>120</td>\n",
       "      <td>1.65</td>\n",
       "      <td>0.68</td>\n",
       "      <td>0.53</td>\n",
       "      <td>1.46</td>\n",
       "      <td>9.30</td>\n",
       "      <td>0.60</td>\n",
       "      <td>1.62</td>\n",
       "      <td>840</td>\n",
       "    </tr>\n",
       "    <tr>\n",
       "      <td>177</td>\n",
       "      <td>3</td>\n",
       "      <td>14.13</td>\n",
       "      <td>4.10</td>\n",
       "      <td>2.74</td>\n",
       "      <td>24.5</td>\n",
       "      <td>96</td>\n",
       "      <td>2.05</td>\n",
       "      <td>0.76</td>\n",
       "      <td>0.56</td>\n",
       "      <td>1.35</td>\n",
       "      <td>9.20</td>\n",
       "      <td>0.61</td>\n",
       "      <td>1.60</td>\n",
       "      <td>560</td>\n",
       "    </tr>\n",
       "  </tbody>\n",
       "</table>\n",
       "<p>178 rows × 14 columns</p>\n",
       "</div>"
      ],
      "text/plain": [
       "     Wine  Alcohol  Malic.acid   Ash   Acl   Mg  Phenols  Flavanoids  \\\n",
       "0       1    14.23        1.71  2.43  15.6  127     2.80        3.06   \n",
       "1       1    13.20        1.78  2.14  11.2  100     2.65        2.76   \n",
       "2       1    13.16        2.36  2.67  18.6  101     2.80        3.24   \n",
       "3       1    14.37        1.95  2.50  16.8  113     3.85        3.49   \n",
       "4       1    13.24        2.59  2.87  21.0  118     2.80        2.69   \n",
       "..    ...      ...         ...   ...   ...  ...      ...         ...   \n",
       "173     3    13.71        5.65  2.45  20.5   95     1.68        0.61   \n",
       "174     3    13.40        3.91  2.48  23.0  102     1.80        0.75   \n",
       "175     3    13.27        4.28  2.26  20.0  120     1.59        0.69   \n",
       "176     3    13.17        2.59  2.37  20.0  120     1.65        0.68   \n",
       "177     3    14.13        4.10  2.74  24.5   96     2.05        0.76   \n",
       "\n",
       "     Nonflavanoid.phenols  Proanth  Color.int   Hue    OD  Proline  \n",
       "0                    0.28     2.29       5.64  1.04  3.92     1065  \n",
       "1                    0.26     1.28       4.38  1.05  3.40     1050  \n",
       "2                    0.30     2.81       5.68  1.03  3.17     1185  \n",
       "3                    0.24     2.18       7.80  0.86  3.45     1480  \n",
       "4                    0.39     1.82       4.32  1.04  2.93      735  \n",
       "..                    ...      ...        ...   ...   ...      ...  \n",
       "173                  0.52     1.06       7.70  0.64  1.74      740  \n",
       "174                  0.43     1.41       7.30  0.70  1.56      750  \n",
       "175                  0.43     1.35      10.20  0.59  1.56      835  \n",
       "176                  0.53     1.46       9.30  0.60  1.62      840  \n",
       "177                  0.56     1.35       9.20  0.61  1.60      560  \n",
       "\n",
       "[178 rows x 14 columns]"
      ]
     },
     "execution_count": 45,
     "metadata": {},
     "output_type": "execute_result"
    }
   ],
   "source": [
    "#Libraries\n",
    "\n",
    "import numpy as np # linear algebra\n",
    "import pandas as pd # data processing, CSV file I/O (e.g. pd.read_csv)\n",
    "import matplotlib.pyplot as plt\n",
    "import scipy.stats\n",
    "# Read Dataset\n",
    "dataset = pd.read_csv('./wine.csv',delimiter=',',header=0)\n",
    "dataset"
   ]
  },
  {
   "cell_type": "markdown",
   "metadata": {},
   "source": [
    "## Información mutua\n",
    "Para el cómputo de la información mutua dividiremos los valores que toman los datos en cada atributo en 10 cajas distintas."
   ]
  },
  {
   "cell_type": "code",
   "execution_count": 111,
   "metadata": {},
   "outputs": [],
   "source": [
    "def mutualinfo(atrib,clase,dataset,numclases):\n",
    "    MI = 0\n",
    "    bins = [0,0.1,0.2,0.3,0.4,0.5,0.6,0.7,0.8,0.9,1]\n",
    "    labels = [0,1,2,3,4,5,6,7,8,9]\n",
    "    df = pd.DataFrame()\n",
    "    df['normal'] = (dataset[atrib]-dataset[atrib].min())\n",
    "    df['normal'] = df['normal']/df['normal'].max()\n",
    "    df['binned'] = pd.cut(df['normal'], bins=bins, labels=labels)\n",
    "    df['clase'] = dataset[clase]\n",
    "    \n",
    "    T = dataset[clase].count()\n",
    "    for ci in range(1,numclases+1):\n",
    "        pci = df[df['clase'] == ci]['binned'].count()/T\n",
    "        for ai in labels:\n",
    "            pai = df[df['binned'] == ai]['binned'].count()/T\n",
    "            pcai = (df[df['clase'] == ci]['binned'].values == ai).sum()/T\n",
    "            if pcai > 0:\n",
    "                entropy = (pcai) * np.log((pcai)/(pai*pci))\n",
    "                MI = MI + entropy\n",
    "    return MI"
   ]
  },
  {
   "cell_type": "code",
   "execution_count": 119,
   "metadata": {},
   "outputs": [
    {
     "name": "stdout",
     "output_type": "stream",
     "text": [
      "Wine :=  0.7200242847822809\n",
      "Alcohol :=  0.45375779442006337\n",
      "Malic.acid :=  0.31794115866503514\n",
      "Ash :=  0.11299081711921698\n",
      "Acl :=  0.24197567541200668\n",
      "Mg :=  0.252505275139712\n",
      "Phenols :=  0.41314973511917674\n",
      "Flavanoids :=  0.6677363731879943\n",
      "Nonflavanoid.phenols :=  0.20230732499729445\n",
      "Proanth :=  0.2440739251572243\n",
      "Color.int :=  0.5248166704475082\n",
      "Hue :=  0.43443137342682925\n",
      "OD :=  0.5309899942010472\n",
      "Proline :=  0.5384637089003323\n"
     ]
    },
    {
     "data": {
      "text/plain": [
       "['Flavanoids', 'OD', 'Proline']"
      ]
     },
     "execution_count": 119,
     "metadata": {},
     "output_type": "execute_result"
    }
   ],
   "source": [
    "good = []\n",
    "for atrib in dataset:\n",
    "    mi = mutualinfo(atrib,'Wine',dataset,3)\n",
    "    if mi > 0.53 and atrib != 'Wine':\n",
    "        good.append(atrib)\n",
    "    print(atrib, ':= ', mi)\n",
    "good"
   ]
  },
  {
   "cell_type": "code",
   "execution_count": 121,
   "metadata": {},
   "outputs": [
    {
     "data": {
      "image/png": "[encoded data removed]",
      "text/plain": [
       "<Figure size 432x288 with 1 Axes>"
      ]
     },
     "metadata": {
      "needs_background": "light"
     },
     "output_type": "display_data"
    }
   ],
   "source": [
    "### Scatter Plot Flavanoids vs Proline\n",
    "\n",
    "plt.figure()\n",
    "plt.scatter(dataset[dataset.Wine==1].Flavanoids,dataset[dataset.Wine==1].Proline, color='red')\n",
    "plt.scatter(dataset[dataset.Wine==2].Flavanoids,dataset[dataset.Wine==2].Proline, color='blue')\n",
    "plt.scatter(dataset[dataset.Wine==3].Flavanoids,dataset[dataset.Wine==3].Proline, color='green')\n",
    "plt.title('Scatter Plot: Flavanoids vs Proline')\n",
    "plt.xlabel('Flavanoids')\n",
    "plt.ylabel('Proline')\n",
    "plt.legend(['A','B','C'])\n",
    "plt.show()"
   ]
  },
  {
   "cell_type": "code",
   "execution_count": 120,
   "metadata": {},
   "outputs": [
    {
     "data": {
      "image/png": "[encoded data removed]",
      "text/plain": [
       "<Figure size 432x288 with 1 Axes>"
      ]
     },
     "metadata": {
      "needs_background": "light"
     },
     "output_type": "display_data"
    }
   ],
   "source": [
    "### Scatter Plot Flavanoids vs OD\n",
    "\n",
    "plt.figure()\n",
    "plt.scatter(dataset[dataset.Wine==1].Flavanoids,dataset[dataset.Wine==1].OD, color='red')\n",
    "plt.scatter(dataset[dataset.Wine==2].Flavanoids,dataset[dataset.Wine==2].OD, color='blue')\n",
    "plt.scatter(dataset[dataset.Wine==3].Flavanoids,dataset[dataset.Wine==3].OD, color='green')\n",
    "plt.title('Scatter Plot: Flavanoids vs OD')\n",
    "plt.xlabel('Flavanoids')\n",
    "plt.ylabel('OD')\n",
    "plt.legend(['A','B','C'])\n",
    "plt.show()"
   ]
  },
  {
   "cell_type": "code",
   "execution_count": 122,
   "metadata": {},
   "outputs": [
    {
     "data": {
      "image/png": "[encoded data removed]",
      "text/plain": [
       "<Figure size 432x288 with 1 Axes>"
      ]
     },
     "metadata": {
      "needs_background": "light"
     },
     "output_type": "display_data"
    }
   ],
   "source": [
    "### Scatter Plot OD vs Proline\n",
    "\n",
    "plt.figure()\n",
    "plt.scatter(dataset[dataset.Wine==1].OD,dataset[dataset.Wine==1].Proline, color='red')\n",
    "plt.scatter(dataset[dataset.Wine==2].OD,dataset[dataset.Wine==2].Proline, color='blue')\n",
    "plt.scatter(dataset[dataset.Wine==3].OD,dataset[dataset.Wine==3].Proline, color='green')\n",
    "plt.title('Scatter Plot: OD vs Proline')\n",
    "plt.xlabel('OD')\n",
    "plt.ylabel('Proline')\n",
    "plt.legend(['A','B','C'])\n",
    "plt.show()"
   ]
  },
  {
   "cell_type": "markdown",
   "metadata": {},
   "source": [
    "## Chi-Square\n",
    "De nuevo consideramos 10 cajas por atributo"
   ]
  },
  {
   "cell_type": "code",
   "execution_count": 123,
   "metadata": {},
   "outputs": [],
   "source": [
    "def chisq(atrib,clase,dataset,numclases):\n",
    "    C = 0\n",
    "    bins = [0,0.1,0.2,0.3,0.4,0.5,0.6,0.7,0.8,0.9,1]\n",
    "    labels = [0,1,2,3,4,5,6,7,8,9]\n",
    "    df = pd.DataFrame()\n",
    "    df['normal'] = (dataset[atrib]-dataset[atrib].min())\n",
    "    df['normal'] = df['normal']/df['normal'].max()\n",
    "    df['binned'] = pd.cut(df['normal'], bins=bins, labels=labels)\n",
    "    df['clase'] = dataset[clase]\n",
    "    \n",
    "    T = dataset[clase].count()\n",
    "    for ci in range(1,numclases+1):\n",
    "        pci = df[df['clase'] == ci]['binned'].count()/T\n",
    "        for ai in labels:\n",
    "            pai = df[df['binned'] == ai]['binned'].count()/T\n",
    "            pcai = (df[df['clase'] == ci]['binned'].values == ai).sum()/T\n",
    "            if pcai > 0:\n",
    "                entropy = (pai*pci) * (((pcai-(pai*pci))/(pai*pci))**2)\n",
    "                C = C + entropy\n",
    "    return C"
   ]
  },
  {
   "cell_type": "code",
   "execution_count": 126,
   "metadata": {},
   "outputs": [
    {
     "name": "stdout",
     "output_type": "stream",
     "text": [
      "Wine :=  0.89474182552708\n",
      "Alcohol :=  0.5637012525520861\n",
      "Malic.acid :=  0.5183431879435374\n",
      "Ash :=  0.15559841415608244\n",
      "Acl :=  0.3309871651917015\n",
      "Mg :=  0.30672596502155525\n",
      "Phenols :=  0.5435301025755033\n",
      "Flavanoids :=  0.8816843249559941\n",
      "Nonflavanoid.phenols :=  0.29820261956258337\n",
      "Proanth :=  0.335979813241159\n",
      "Color.int :=  0.7268494599873179\n",
      "Hue :=  0.5201574155033654\n",
      "OD :=  0.6193835327178725\n",
      "Proline :=  0.6799429712647511\n"
     ]
    },
    {
     "data": {
      "text/plain": [
       "['Flavanoids', 'Color.int']"
      ]
     },
     "execution_count": 126,
     "metadata": {},
     "output_type": "execute_result"
    }
   ],
   "source": [
    "good = []\n",
    "for atrib in dataset:\n",
    "    c = chisq(atrib,'Wine',dataset,3)\n",
    "    if c > 0.7 and atrib != 'Wine':\n",
    "        good.append(atrib)\n",
    "    print(atrib, ':= ', c)\n",
    "good"
   ]
  },
  {
   "cell_type": "code",
   "execution_count": 132,
   "metadata": {},
   "outputs": [
    {
     "data": {
      "image/png": "[encoded data removed]",
      "text/plain": [
       "<Figure size 432x288 with 1 Axes>"
      ]
     },
     "metadata": {
      "needs_background": "light"
     },
     "output_type": "display_data"
    }
   ],
   "source": [
    "### Scatter Plot Flavanoids vs Color.int\n",
    "\n",
    "plt.figure()\n",
    "plt.scatter(dataset[dataset.Wine==1].Flavanoids,dataset[dataset.Wine==1]['Color.int'], color='red')\n",
    "plt.scatter(dataset[dataset.Wine==2].Flavanoids,dataset[dataset.Wine==2]['Color.int'], color='blue')\n",
    "plt.scatter(dataset[dataset.Wine==3].Flavanoids,dataset[dataset.Wine==3]['Color.int'], color='green')\n",
    "plt.title('Scatter Plot: Flavanoids vs Color.int')\n",
    "plt.xlabel('Flavanoids')\n",
    "plt.ylabel('Color.int')\n",
    "plt.legend(['A','B','C'])\n",
    "plt.show()"
   ]
  },
  {
   "cell_type": "code",
   "execution_count": null,
   "metadata": {},
   "outputs": [],
   "source": []
  }
 ],
 "metadata": {
  "kernelspec": {
   "display_name": "Python 3",
   "language": "python",
   "name": "python3"
  },
  "language_info": {
   "codemirror_mode": {
    "name": "ipython",
    "version": 3
   },
   "file_extension": ".py",
   "mimetype": "text/x-python",
   "name": "python",
   "nbconvert_exporter": "python",
   "pygments_lexer": "ipython3",
   "version": "3.7.4"
  }
 },
 "nbformat": 4,
 "nbformat_minor": 2
}
